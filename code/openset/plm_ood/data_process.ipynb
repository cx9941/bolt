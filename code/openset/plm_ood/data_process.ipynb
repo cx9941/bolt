{
 "cells": [
  {
   "cell_type": "code",
   "execution_count": 1,
   "metadata": {},
   "outputs": [],
   "source": [
    "import pandas as pd\n",
    "import os\n",
    "# for dataset_name in ['linkedln', 'banking', 'clinc', 'mcid', 'reuters', 'stackoverflow', 'thucnews', 'snips', 'atis', 'ele', 'news']:\n",
    "for dataset_name in ['atis']:\n",
    "    for rate in [0.25, 0.5, 0.75]:\n",
    "        root_dir = '../../data'\n",
    "        train_df = pd.read_csv(f'{root_dir}/{dataset_name}/{dataset_name}_{rate}/train.csv', sep='\\t')\n",
    "        eval_df = pd.read_csv(f'{root_dir}/{dataset_name}/{dataset_name}_{rate}/eval.csv', sep='\\t')\n",
    "        test_df = pd.read_csv(f'{root_dir}/{dataset_name}/{dataset_name}_{rate}/test.csv', sep='\\t')\n",
    "        if not os.path.exists(f\"data/{dataset_name}/{dataset_name}_{rate}\"):\n",
    "            os.makedirs(f\"data/{dataset_name}/{dataset_name}_{rate}\")\n",
    "        levels = [i for i in train_df.columns if i!='text']\n",
    "        train_df[levels].drop_duplicates().to_csv(f\"data/{dataset_name}/{dataset_name}_{rate}/taxonomy.csv\", index=None, sep='\\t')\n",
    "        train_df.to_csv(f\"data/{dataset_name}/{dataset_name}_{rate}/train.csv\", index=None, sep='\\t')\n",
    "\n",
    "        # eval_df.to_csv(f\"data/{dataset_name}/{dataset_name}_{rate}/eval.csv\", index=None, sep='\\t')\n",
    "        eval_seen_df = eval_df[eval_df[levels[-1]].isin(train_df[levels[-1]])]\n",
    "        eval_unseen_df = eval_df[~eval_df[levels[-1]].isin(train_df[levels[-1]])]\n",
    "        eval_seen_df.to_csv(f\"data/{dataset_name}/{dataset_name}_{rate}/eval_seen.csv\", index=None, sep='\\t')\n",
    "        eval_unseen_df.to_csv(f\"data/{dataset_name}/{dataset_name}_{rate}/eval_unseen.csv\", index=None, sep='\\t')\n",
    "\n",
    "        test_seen_df = test_df[test_df[levels[-1]].isin(train_df[levels[-1]])]\n",
    "        test_unseen_df = test_df[~test_df[levels[-1]].isin(train_df[levels[-1]])]\n",
    "        test_seen_df.to_csv(f\"data/{dataset_name}/{dataset_name}_{rate}/test_seen.csv\", index=None, sep='\\t')\n",
    "        test_unseen_df.to_csv(f\"data/{dataset_name}/{dataset_name}_{rate}/test_unseen.csv\", index=None, sep='\\t')"
   ]
  }
 ],
 "metadata": {
  "kernelspec": {
   "display_name": "acl25",
   "language": "python",
   "name": "python3"
  },
  "language_info": {
   "codemirror_mode": {
    "name": "ipython",
    "version": 3
   },
   "file_extension": ".py",
   "mimetype": "text/x-python",
   "name": "python",
   "nbconvert_exporter": "python",
   "pygments_lexer": "ipython3",
   "version": "3.12.4"
  }
 },
 "nbformat": 4,
 "nbformat_minor": 2
}
