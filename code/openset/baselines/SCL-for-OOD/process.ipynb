{
 "cells": [
  {
   "cell_type": "code",
   "execution_count": 1,
   "metadata": {},
   "outputs": [],
   "source": [
    "import pandas as pd\n",
    "import os\n",
    "root_dir = '../../data'\n",
    "# for dataset_name in ['linkedln', 'banking', 'clinc', 'mcid', 'reuters', 'stackoverflow', 'thucnews', 'snips', 'atis', 'ele', 'news']:\n",
    "for dataset_name in ['atis']:\n",
    "    for split in ['train', 'eval', 'test']:\n",
    "        df = pd.read_csv(f'{root_dir}/{dataset_name}/origin_data/{split}.tsv', sep='\\t')\n",
    "        if not os.path.exists(f'data/{dataset_name}'):\n",
    "            os.makedirs(f'data/{dataset_name}')\n",
    "        if split == 'eval':\n",
    "            split = 'valid'\n",
    "        df['label'] = df['label'].apply(lambda x: '_'.join(x.split(' ')))\n",
    "        df['text'] = df['text'].apply(lambda x: x.replace('\\n', ''))\n",
    "        # df.to_csv(f'data/{dataset_name}/{split}.csv', index=None)\n",
    "        df[['label']].to_csv(f'data/{dataset_name}/{split}.label', header=None, index=None)\n",
    "        df[['text']].to_csv(f'data/{dataset_name}/{split}.seq.in', header=None, index=None)\n",
    "        for ratio in [0.25, 0.5, 0.75]:\n",
    "            idx = pd.read_csv(f'{root_dir}/{dataset_name}/{dataset_name}_{ratio}/idx.txt', sep='\\t')\n",
    "            idx['node'] = idx['node'].apply(lambda x: x.replace(' ', '_'))\n",
    "            ratio = int(100*ratio)\n",
    "            idx[['node']].to_csv(f'data/{dataset_name}/known_class_{ratio}.txt', header=None, index=None)"
   ]
  }
 ],
 "metadata": {
  "kernelspec": {
   "display_name": "acl25",
   "language": "python",
   "name": "python3"
  },
  "language_info": {
   "codemirror_mode": {
    "name": "ipython",
    "version": 3
   },
   "file_extension": ".py",
   "mimetype": "text/x-python",
   "name": "python",
   "nbconvert_exporter": "python",
   "pygments_lexer": "ipython3",
   "version": "3.12.4"
  }
 },
 "nbformat": 4,
 "nbformat_minor": 2
}
