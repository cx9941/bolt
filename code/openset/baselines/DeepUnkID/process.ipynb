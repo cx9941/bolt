{
 "cells": [
  {
   "cell_type": "code",
   "execution_count": 1,
   "metadata": {},
   "outputs": [],
   "source": [
    "import pandas as pd\n",
    "import os\n",
    "root_dir = '../../data'\n",
    "# for dataset_name in ['linkedln', 'banking', 'clinc', 'mcid', 'reuters', 'stackoverflow', 'thucnews', 'snips', 'atis', 'ele', 'news']:\n",
    "for dataset_name in ['news']:\n",
    "    for split in ['train', 'eval', 'test']:\n",
    "        df = pd.read_csv(f'{root_dir}/{dataset_name}/origin_data/{split}.tsv', sep='\\t')\n",
    "        if not os.path.exists(f'data/{dataset_name}'):\n",
    "            os.makedirs(f'data/{dataset_name}')\n",
    "        if split == 'eval':\n",
    "            split = 'valid'\n",
    "        df['label'] = df['label'].apply(lambda x: '_'.join(x.split(' ')))\n",
    "        df['text'] = df['text'].apply(lambda x: x.replace('\\n', ''))\n",
    "        df.to_csv(f'data/{dataset_name}/{split}.csv', index=None)\n",
    "        df[['label']].to_csv(f'data/{dataset_name}/{split}.label', header=None, index=None)\n",
    "        df[['text']].to_csv(f'data/{dataset_name}/{split}.seq.in', header=None, index=None)\n",
    "        for ratio in [0.25, 0.5, 0.75]:\n",
    "            idx = pd.read_csv(f'{root_dir}/{dataset_name}/{dataset_name}_{ratio}/idx.txt', sep='\\t')\n",
    "            idx['node'] = idx['node'].apply(lambda x: x.replace(' ', '_'))\n",
    "            idx[['node']].to_csv(f'data/{dataset_name}/known_class_{ratio}.txt', header=None, index=None)"
   ]
  },
  {
   "cell_type": "code",
   "execution_count": 5,
   "metadata": {},
   "outputs": [],
   "source": [
    "from utils import load_data\n",
    "df, partition_to_n_row = load_data('news')\n",
    "from nltk.tokenize import word_tokenize\n",
    "df['text'] = df['text'].apply(lambda x: ' '.join(x.split(' ')[:400]))\n",
    "df['content_words'] = df['text'].apply(lambda s: word_tokenize(s))"
   ]
  },
  {
   "cell_type": "code",
   "execution_count": 3,
   "metadata": {},
   "outputs": [
    {
     "data": {
      "text/html": [
       "<div>\n",
       "<style scoped>\n",
       "    .dataframe tbody tr th:only-of-type {\n",
       "        vertical-align: middle;\n",
       "    }\n",
       "\n",
       "    .dataframe tbody tr th {\n",
       "        vertical-align: top;\n",
       "    }\n",
       "\n",
       "    .dataframe thead th {\n",
       "        text-align: right;\n",
       "    }\n",
       "</style>\n",
       "<table border=\"1\" class=\"dataframe\">\n",
       "  <thead>\n",
       "    <tr style=\"text-align: right;\">\n",
       "      <th></th>\n",
       "      <th>text</th>\n",
       "      <th>label</th>\n",
       "      <th>content_words</th>\n",
       "    </tr>\n",
       "  </thead>\n",
       "  <tbody>\n",
       "    <tr>\n",
       "      <th>0</th>\n",
       "      <td>\"From: frank@D012S658.uucp (Frank O'Dwyer)Subj...</td>\n",
       "      <td>alt.atheism</td>\n",
       "      <td>[``, From, :, frank, @, D012S658.uucp, (, Fran...</td>\n",
       "    </tr>\n",
       "    <tr>\n",
       "      <th>1</th>\n",
       "      <td>\"From: mathew &lt;mathew@mantis.co.uk&gt;Subject: Re...</td>\n",
       "      <td>alt.atheism</td>\n",
       "      <td>[``, From, :, mathew, &lt;, mathew, @, mantis.co....</td>\n",
       "    </tr>\n",
       "    <tr>\n",
       "      <th>2</th>\n",
       "      <td>\"From: mangoe@cs.umd.edu (Charley Wingate)Subj...</td>\n",
       "      <td>alt.atheism</td>\n",
       "      <td>[``, From, :, mangoe, @, cs.umd.edu, (, Charle...</td>\n",
       "    </tr>\n",
       "    <tr>\n",
       "      <th>3</th>\n",
       "      <td>\"Subject: Re: Americans and EvolutionFrom: lmh...</td>\n",
       "      <td>alt.atheism</td>\n",
       "      <td>[``, Subject, :, Re, :, Americans, and, Evolut...</td>\n",
       "    </tr>\n",
       "    <tr>\n",
       "      <th>4</th>\n",
       "      <td>\"From: jaeger@buphy.bu.edu (Gregg Jaeger)Subje...</td>\n",
       "      <td>alt.atheism</td>\n",
       "      <td>[``, From, :, jaeger, @, buphy.bu.edu, (, Greg...</td>\n",
       "    </tr>\n",
       "    <tr>\n",
       "      <th>...</th>\n",
       "      <td>...</td>\n",
       "      <td>...</td>\n",
       "      <td>...</td>\n",
       "    </tr>\n",
       "    <tr>\n",
       "      <th>18823</th>\n",
       "      <td>\"From: mathew &lt;mathew@mantis.co.uk&gt;Subject: Re...</td>\n",
       "      <td>talk.religion.misc</td>\n",
       "      <td>[``, From, :, mathew, &lt;, mathew, @, mantis.co....</td>\n",
       "    </tr>\n",
       "    <tr>\n",
       "      <th>18824</th>\n",
       "      <td>\"From: bskendig@netcom.com (Brian Kendig)Subje...</td>\n",
       "      <td>talk.religion.misc</td>\n",
       "      <td>[``, From, :, bskendig, @, netcom.com, (, Bria...</td>\n",
       "    </tr>\n",
       "    <tr>\n",
       "      <th>18825</th>\n",
       "      <td>From: MORIARTY@NDSUVM1.BITNETSubject: Re: New ...</td>\n",
       "      <td>talk.religion.misc</td>\n",
       "      <td>[From, :, MORIARTY, @, NDSUVM1.BITNETSubject, ...</td>\n",
       "    </tr>\n",
       "    <tr>\n",
       "      <th>18826</th>\n",
       "      <td>\"From: b645zaw@utarlg.uta.edu (stephen)Subject...</td>\n",
       "      <td>talk.religion.misc</td>\n",
       "      <td>[``, From, :, b645zaw, @, utarlg.uta.edu, (, s...</td>\n",
       "    </tr>\n",
       "    <tr>\n",
       "      <th>18827</th>\n",
       "      <td>\"From: \"\"David R. Sacco\"\" &lt;dsav+@andrew.cmu.ed...</td>\n",
       "      <td>talk.religion.misc</td>\n",
       "      <td>[``, From, :, ``, '', David, R., Sacco, '', ''...</td>\n",
       "    </tr>\n",
       "  </tbody>\n",
       "</table>\n",
       "<p>18828 rows × 3 columns</p>\n",
       "</div>"
      ],
      "text/plain": [
       "                                                    text               label  \\\n",
       "0      \"From: frank@D012S658.uucp (Frank O'Dwyer)Subj...         alt.atheism   \n",
       "1      \"From: mathew <mathew@mantis.co.uk>Subject: Re...         alt.atheism   \n",
       "2      \"From: mangoe@cs.umd.edu (Charley Wingate)Subj...         alt.atheism   \n",
       "3      \"Subject: Re: Americans and EvolutionFrom: lmh...         alt.atheism   \n",
       "4      \"From: jaeger@buphy.bu.edu (Gregg Jaeger)Subje...         alt.atheism   \n",
       "...                                                  ...                 ...   \n",
       "18823  \"From: mathew <mathew@mantis.co.uk>Subject: Re...  talk.religion.misc   \n",
       "18824  \"From: bskendig@netcom.com (Brian Kendig)Subje...  talk.religion.misc   \n",
       "18825  From: MORIARTY@NDSUVM1.BITNETSubject: Re: New ...  talk.religion.misc   \n",
       "18826  \"From: b645zaw@utarlg.uta.edu (stephen)Subject...  talk.religion.misc   \n",
       "18827  \"From: \"\"David R. Sacco\"\" <dsav+@andrew.cmu.ed...  talk.religion.misc   \n",
       "\n",
       "                                           content_words  \n",
       "0      [``, From, :, frank, @, D012S658.uucp, (, Fran...  \n",
       "1      [``, From, :, mathew, <, mathew, @, mantis.co....  \n",
       "2      [``, From, :, mangoe, @, cs.umd.edu, (, Charle...  \n",
       "3      [``, Subject, :, Re, :, Americans, and, Evolut...  \n",
       "4      [``, From, :, jaeger, @, buphy.bu.edu, (, Greg...  \n",
       "...                                                  ...  \n",
       "18823  [``, From, :, mathew, <, mathew, @, mantis.co....  \n",
       "18824  [``, From, :, bskendig, @, netcom.com, (, Bria...  \n",
       "18825  [From, :, MORIARTY, @, NDSUVM1.BITNETSubject, ...  \n",
       "18826  [``, From, :, b645zaw, @, utarlg.uta.edu, (, s...  \n",
       "18827  [``, From, :, ``, '', David, R., Sacco, '', ''...  \n",
       "\n",
       "[18828 rows x 3 columns]"
      ]
     },
     "execution_count": 3,
     "metadata": {},
     "output_type": "execute_result"
    }
   ],
   "source": [
    "df"
   ]
  },
  {
   "cell_type": "code",
   "execution_count": 6,
   "metadata": {},
   "outputs": [
    {
     "data": {
      "text/plain": [
       "0        533\n",
       "1         74\n",
       "2         95\n",
       "3        230\n",
       "4        241\n",
       "        ... \n",
       "18823    453\n",
       "18824    507\n",
       "18825     33\n",
       "18826    314\n",
       "18827    278\n",
       "Name: content_words, Length: 18828, dtype: int64"
      ]
     },
     "execution_count": 6,
     "metadata": {},
     "output_type": "execute_result"
    }
   ],
   "source": [
    "df['content_words'].apply(len)"
   ]
  }
 ],
 "metadata": {
  "kernelspec": {
   "display_name": "scl",
   "language": "python",
   "name": "python3"
  },
  "language_info": {
   "codemirror_mode": {
    "name": "ipython",
    "version": 3
   },
   "file_extension": ".py",
   "mimetype": "text/x-python",
   "name": "python",
   "nbconvert_exporter": "python",
   "pygments_lexer": "ipython3",
   "version": "3.6.13"
  }
 },
 "nbformat": 4,
 "nbformat_minor": 2
}
