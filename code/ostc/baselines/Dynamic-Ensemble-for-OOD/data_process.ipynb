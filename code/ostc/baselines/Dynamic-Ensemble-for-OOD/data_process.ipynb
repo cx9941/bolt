{
 "cells": [
  {
   "cell_type": "code",
   "execution_count": 1,
   "metadata": {},
   "outputs": [],
   "source": [
    "import pandas as pd\n",
    "import os\n",
    "root_dir = '../../data'\n",
    "# for dataset_name in ['linkedln', 'banking', 'clinc', 'mcid', 'reuters', 'stackoverflow', 'thucnews', 'snips', 'atis', 'ele', 'news']:\n",
    "for dataset_name in ['atis']:\n",
    "    for split in ['train', 'eval', 'test']:\n",
    "        df = pd.read_csv(f'{root_dir}/{dataset_name}/origin_data/{split}.tsv', sep='\\t')\n",
    "        if not os.path.exists(f'data/{dataset_name}'):\n",
    "            os.makedirs(f'data/{dataset_name}')\n",
    "        if split == 'eval':\n",
    "            split = 'valid'\n",
    "        df['label'] = df['label'].apply(lambda x: '_'.join(x.split(' ')))\n",
    "        df.to_csv(f\"data/{dataset_name}/{split}.tsv\", index=None, sep='\\t')"
   ]
  },
  {
   "cell_type": "code",
   "execution_count": 2,
   "metadata": {},
   "outputs": [],
   "source": [
    "import json\n",
    "import os\n",
    "config = json.load(open('json/demo.json', 'r'))\n",
    "# for dataset_name in ['linkedln', 'banking', 'clinc', 'mcid', 'reuters', 'stackoverflow', 'thucnews', 'snips', 'atis', 'ele', 'news']:\n",
    "for dataset_name in ['atis']:\n",
    "    for ratio in [0.25, 0.5, 0.75]:\n",
    "        for seed in range(5):\n",
    "            config['data'] = dataset_name\n",
    "            config['known_ratio'] = ratio\n",
    "            config['seed'] = seed\n",
    "            config['per_device_train_batch_size'] = 64\n",
    "            config['per_device_eval_batch_size'] = 128\n",
    "            config['model_name_or_path'] = '../../llms/bert-base-uncased'\n",
    "            if not os.path.exists(f\"json/{dataset_name}/{ratio}\"):\n",
    "                os.makedirs(f\"json/{dataset_name}/{ratio}\")\n",
    "            json.dump(config, open(f'json/{dataset_name}/{ratio}/{seed}.json', 'w'))"
   ]
  }
 ],
 "metadata": {
  "kernelspec": {
   "display_name": "acl25",
   "language": "python",
   "name": "python3"
  },
  "language_info": {
   "codemirror_mode": {
    "name": "ipython",
    "version": 3
   },
   "file_extension": ".py",
   "mimetype": "text/x-python",
   "name": "python",
   "nbconvert_exporter": "python",
   "pygments_lexer": "ipython3",
   "version": "3.12.4"
  }
 },
 "nbformat": 4,
 "nbformat_minor": 2
}
