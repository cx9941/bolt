{
 "cells": [
  {
   "cell_type": "code",
   "execution_count": 11,
   "id": "ec669215",
   "metadata": {},
   "outputs": [
    {
     "ename": "TypeError",
     "evalue": "Textures.__init__() got an unexpected keyword argument 'train'",
     "output_type": "error",
     "traceback": [
      "\u001b[31m---------------------------------------------------------------------------\u001b[39m",
      "\u001b[31mTypeError\u001b[39m                                 Traceback (most recent call last)",
      "\u001b[36mCell\u001b[39m\u001b[36m \u001b[39m\u001b[32mIn[11]\u001b[39m\u001b[32m, line 15\u001b[39m\n\u001b[32m     13\u001b[39m root = \u001b[33m\"\u001b[39m\u001b[33m./data/textures\u001b[39m\u001b[33m\"\u001b[39m\n\u001b[32m     14\u001b[39m preprocess = WideResNet.transform_for(\u001b[33m\"\u001b[39m\u001b[33mer-cifar10-tune\u001b[39m\u001b[33m\"\u001b[39m)\n\u001b[32m---> \u001b[39m\u001b[32m15\u001b[39m dataset_train = \u001b[43mTextures\u001b[49m\u001b[43m(\u001b[49m\u001b[43mroot\u001b[49m\u001b[43m=\u001b[49m\u001b[43mroot\u001b[49m\u001b[43m,\u001b[49m\u001b[43m \u001b[49m\u001b[43mtrain\u001b[49m\u001b[43m=\u001b[49m\u001b[38;5;28;43;01mTrue\u001b[39;49;00m\u001b[43m,\u001b[49m\u001b[43m \u001b[49m\u001b[43mdownload\u001b[49m\u001b[43m=\u001b[49m\u001b[38;5;28;43;01mTrue\u001b[39;49;00m\u001b[43m,\u001b[49m\u001b[43m \u001b[49m\u001b[43mtransform\u001b[49m\u001b[43m=\u001b[49m\u001b[43mpreprocess\u001b[49m\u001b[43m)\u001b[49m\n\u001b[32m     16\u001b[39m dataset_in_test = Textures(root=root, train=\u001b[38;5;28;01mFalse\u001b[39;00m, download=\u001b[38;5;28;01mTrue\u001b[39;00m, transform=preprocess)\n\u001b[32m     17\u001b[39m dataset_out_test = Textures(root=root, train=\u001b[38;5;28;01mFalse\u001b[39;00m, download=\u001b[38;5;28;01mTrue\u001b[39;00m, transform=preprocess)\n",
      "\u001b[31mTypeError\u001b[39m: Textures.__init__() got an unexpected keyword argument 'train'"
     ]
    }
   ],
   "source": [
    "import os\n",
    "import torch\n",
    "from torchvision import transforms\n",
    "from torch.utils.data import DataLoader\n",
    "from torchvision.datasets.utils import download_and_extract_archive\n",
    "from PIL import Image\n",
    "\n",
    "from pytorch_ood.detector import EnergyBased\n",
    "from pytorch_ood.utils import OODMetrics\n",
    "from pytorch_ood.model import WideResNet\n",
    "from pytorch_ood.dataset.img import Textures\n",
    "\n",
    "root = \"./data/textures\"\n",
    "preprocess = WideResNet.transform_for(\"er-cifar10-tune\")\n",
    "dataset_train = Textures(root=root, download=True, transform=preprocess)\n",
    "dataset_in_test = Textures(root=root, download=True, transform=preprocess)\n",
    "dataset_out_test = Textures(root=root, download=True, transform=preprocess)\n",
    "# data_loader = DataLoader(textures_dataset, batch_size=64, shuffle=False, num_workers=4)"
   ]
  },
  {
   "cell_type": "code",
   "execution_count": 10,
   "id": "d8a489f1",
   "metadata": {},
   "outputs": [
    {
     "ename": "ValueError",
     "evalue": "Data must contain ID and OOD samples.",
     "output_type": "error",
     "traceback": [
      "\u001b[31m---------------------------------------------------------------------------\u001b[39m",
      "\u001b[31mValueError\u001b[39m                                Traceback (most recent call last)",
      "\u001b[36mCell\u001b[39m\u001b[36m \u001b[39m\u001b[32mIn[10]\u001b[39m\u001b[32m, line 18\u001b[39m\n\u001b[32m     15\u001b[39m     x = x.cuda()\n\u001b[32m     16\u001b[39m     metrics.update(detector(x), y)\n\u001b[32m---> \u001b[39m\u001b[32m18\u001b[39m \u001b[38;5;28mprint\u001b[39m(\u001b[43mmetrics\u001b[49m\u001b[43m.\u001b[49m\u001b[43mcompute\u001b[49m\u001b[43m(\u001b[49m\u001b[43m)\u001b[49m)\n",
      "\u001b[36mFile \u001b[39m\u001b[32m~/miniconda3/envs/py312/lib/python3.12/site-packages/pytorch_ood/utils/metrics.py:275\u001b[39m, in \u001b[36mOODMetrics.compute\u001b[39m\u001b[34m(self)\u001b[39m\n\u001b[32m    272\u001b[39m     labels = \u001b[38;5;28mself\u001b[39m.buffer.get(\u001b[33m\"\u001b[39m\u001b[33my\u001b[39m\u001b[33m\"\u001b[39m).view(-\u001b[32m1\u001b[39m)\n\u001b[32m    273\u001b[39m     scores = \u001b[38;5;28mself\u001b[39m.buffer.get(\u001b[33m\"\u001b[39m\u001b[33mscores\u001b[39m\u001b[33m\"\u001b[39m).view(-\u001b[32m1\u001b[39m)\n\u001b[32m--> \u001b[39m\u001b[32m275\u001b[39m     metrics = \u001b[38;5;28;43mself\u001b[39;49m\u001b[43m.\u001b[49m\u001b[43m_compute\u001b[49m\u001b[43m(\u001b[49m\u001b[43mlabels\u001b[49m\u001b[43m,\u001b[49m\u001b[43m \u001b[49m\u001b[43mscores\u001b[49m\u001b[43m)\u001b[49m\n\u001b[32m    277\u001b[39m metrics = {k: v.item() \u001b[38;5;28;01mfor\u001b[39;00m k, v \u001b[38;5;129;01min\u001b[39;00m metrics.items()}\n\u001b[32m    278\u001b[39m \u001b[38;5;28;01mreturn\u001b[39;00m metrics\n",
      "\u001b[36mFile \u001b[39m\u001b[32m~/miniconda3/envs/py312/lib/python3.12/site-packages/torch/utils/_contextlib.py:116\u001b[39m, in \u001b[36mcontext_decorator.<locals>.decorate_context\u001b[39m\u001b[34m(*args, **kwargs)\u001b[39m\n\u001b[32m    113\u001b[39m \u001b[38;5;129m@functools\u001b[39m.wraps(func)\n\u001b[32m    114\u001b[39m \u001b[38;5;28;01mdef\u001b[39;00m\u001b[38;5;250m \u001b[39m\u001b[34mdecorate_context\u001b[39m(*args, **kwargs):\n\u001b[32m    115\u001b[39m     \u001b[38;5;28;01mwith\u001b[39;00m ctx_factory():\n\u001b[32m--> \u001b[39m\u001b[32m116\u001b[39m         \u001b[38;5;28;01mreturn\u001b[39;00m \u001b[43mfunc\u001b[49m\u001b[43m(\u001b[49m\u001b[43m*\u001b[49m\u001b[43margs\u001b[49m\u001b[43m,\u001b[49m\u001b[43m \u001b[49m\u001b[43m*\u001b[49m\u001b[43m*\u001b[49m\u001b[43mkwargs\u001b[49m\u001b[43m)\u001b[49m\n",
      "\u001b[36mFile \u001b[39m\u001b[32m~/miniconda3/envs/py312/lib/python3.12/site-packages/pytorch_ood/utils/metrics.py:229\u001b[39m, in \u001b[36mOODMetrics._compute\u001b[39m\u001b[34m(self, labels, scores)\u001b[39m\n\u001b[32m    227\u001b[39m \u001b[38;5;66;03m# there must now be ID and OOD samples\u001b[39;00m\n\u001b[32m    228\u001b[39m \u001b[38;5;28;01mif\u001b[39;00m \u001b[38;5;28mlen\u001b[39m(torch.unique(labels)) != \u001b[32m2\u001b[39m:\n\u001b[32m--> \u001b[39m\u001b[32m229\u001b[39m     \u001b[38;5;28;01mraise\u001b[39;00m \u001b[38;5;167;01mValueError\u001b[39;00m(\u001b[33m\"\u001b[39m\u001b[33mData must contain ID and OOD samples.\u001b[39m\u001b[33m\"\u001b[39m)\n\u001b[32m    231\u001b[39m scores, scores_idx = torch.sort(scores, stable=\u001b[38;5;28;01mTrue\u001b[39;00m)\n\u001b[32m    232\u001b[39m labels = labels[scores_idx]\n",
      "\u001b[31mValueError\u001b[39m: Data must contain ID and OOD samples."
     ]
    }
   ],
   "source": [
    "from torch.utils.data import DataLoader\n",
    "from torchvision.datasets import CIFAR10\n",
    "\n",
    "from pytorch_ood.dataset.img import Textures\n",
    "from pytorch_ood.detector import OpenMax\n",
    "from pytorch_ood.model import WideResNet\n",
    "from pytorch_ood.utils import OODMetrics, ToUnknown, fix_random_seed\n",
    "\n",
    "fix_random_seed(123)\n",
    "\n",
    "device = \"cuda:0\"\n",
    "trans = WideResNet.transform_for(\"cifar10-pt\")\n",
    "\n",
    "dataset_train = CIFAR10(root=\"data\", train=True, download=True, transform=trans)\n",
    "dataset_in_test = CIFAR10(root=\"data\", train=False, download=True, transform=trans)\n",
    "dataset_out_test = Textures(\n",
    "root=\"data\", download=True, transform=trans, target_transform=ToUnknown()\n",
    ")\n",
    "\n",
    "train_loader = DataLoader(dataset_train, batch_size=128, shuffle=True)\n",
    "\n",
    "# create data loaders\n",
    "test_loader = DataLoader(dataset_in_test + dataset_out_test, batch_size=128)\n",
    "\n",
    "model = WideResNet(num_classes=10, pretrained=\"cifar10-pt\").to(device).eval()\n",
    "detector = OpenMax(model, tailsize=25, alpha=5, euclid_weight=0.5)\n",
    "detector.fit(train_loader, device=device)\n",
    "metrics = OODMetrics()\n",
    "\n",
    "for x, y in test_loader:\n",
    "    metrics.update(detector(x.to(device)), y)\n",
    "\n",
    "print(metrics.compute())"
   ]
  }
 ],
 "metadata": {
  "kernelspec": {
   "display_name": "py312",
   "language": "python",
   "name": "python3"
  },
  "language_info": {
   "codemirror_mode": {
    "name": "ipython",
    "version": 3
   },
   "file_extension": ".py",
   "mimetype": "text/x-python",
   "name": "python",
   "nbconvert_exporter": "python",
   "pygments_lexer": "ipython3",
   "version": "3.12.11"
  }
 },
 "nbformat": 4,
 "nbformat_minor": 5
}
