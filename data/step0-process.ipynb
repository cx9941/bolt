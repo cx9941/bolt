{
 "cells": [
  {
   "cell_type": "code",
   "execution_count": null,
   "metadata": {},
   "outputs": [],
   "source": [
    "import pandas as pd\n",
    "import os\n",
    "\n",
    "dataset_list = ['banking', 'stackoverflow', 'clinc', 'hwu', 'mcid', 'ele']\n",
    "# dataset_list = ['news']\n",
    "\n",
    "for dataset in dataset_list:\n",
    "\n",
    "    data = {}\n",
    "    for mode in ['train', 'dev', 'test']:\n",
    "        df = pd.read_csv(f'{dataset}/origin_data/{mode}.tsv', sep='\\t')\n",
    "        df['text'] = df['text'].apply(lambda x: x.replace('\\n', ''))\n",
    "        df['label'] = df['label'].apply(lambda x: x.replace('\\n', ''))\n",
    "        data[mode] = df.drop_duplicates('text')\n",
    "\n",
    "    train_text = data['train']['text'].tolist()\n",
    "    dev_text = data['dev']['text'].tolist()\n",
    "\n",
    "    data['dev'] = data['dev'][data['dev']['text'].apply(lambda x: x not in train_text)]\n",
    "    data['test'] = data['test'][data['test']['text'].apply(lambda x: x not in train_text + dev_text)]\n",
    "\n",
    "    for mode in ['train', 'dev', 'test']:\n",
    "        data[mode].to_csv(f'{dataset}/{mode}.tsv', sep='\\t', index=None)\n"
   ]
  }
 ],
 "metadata": {
  "kernelspec": {
   "display_name": "py312",
   "language": "python",
   "name": "python3"
  },
  "language_info": {
   "codemirror_mode": {
    "name": "ipython",
    "version": 3
   },
   "file_extension": ".py",
   "mimetype": "text/x-python",
   "name": "python",
   "nbconvert_exporter": "python",
   "pygments_lexer": "ipython3",
   "version": "3.12.9"
  }
 },
 "nbformat": 4,
 "nbformat_minor": 2
}
