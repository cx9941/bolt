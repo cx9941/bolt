{
 "cells": [
  {
   "cell_type": "code",
   "execution_count": 1,
   "metadata": {},
   "outputs": [],
   "source": [
    "import pandas as pd\n",
    "import os\n",
    "import json\n",
    "root_dir = '../../data'\n",
    "# for dataset_name in ['linkedln', 'banking', 'clinc', 'mcid', 'reuters', 'stackoverflow', 'thucnews', 'snips', 'atis', 'ele', 'news']:\n",
    "for dataset_name in ['atis']:\n",
    "    for rate in [0.75, 0.5, 0.25]:\n",
    "        ans = {}\n",
    "        labels = None\n",
    "        for split in ['train', 'eval', 'test']:\n",
    "            df = pd.read_csv(f'{root_dir}/{dataset_name}/{dataset_name}_{rate}/{split}.csv', sep='\\t')\n",
    "            levels = [i for i in df.columns if i !='text']\n",
    "            df = df[['text', levels[-1]]]\n",
    "            df.columns = ['text', 'label']\n",
    "            df['label'] = df['label'].apply(lambda x: '_'.join(x.split(' ')))\n",
    "            if labels is None:\n",
    "                labels = list(set(df['label'].tolist()))\n",
    "            if not os.path.exists(f'data/{dataset_name}_{rate}'):\n",
    "                os.makedirs(f'data/{dataset_name}_{rate}')\n",
    "            if split == 'train':\n",
    "                ans[split] = df.values.tolist()\n",
    "            else:\n",
    "                df['label'] = df['label'].apply(lambda x: x if x in labels else 'oos')\n",
    "                if split == 'eval':\n",
    "                    split = 'val'\n",
    "                ans[split] = df.values.tolist()\n",
    "        json.dump(ans, open(f'data/{dataset_name}_{rate}/data_full.json', 'w'))"
   ]
  }
 ],
 "metadata": {
  "kernelspec": {
   "display_name": "acl25",
   "language": "python",
   "name": "python3"
  },
  "language_info": {
   "codemirror_mode": {
    "name": "ipython",
    "version": 3
   },
   "file_extension": ".py",
   "mimetype": "text/x-python",
   "name": "python",
   "nbconvert_exporter": "python",
   "pygments_lexer": "ipython3",
   "version": "3.12.4"
  }
 },
 "nbformat": 4,
 "nbformat_minor": 2
}
