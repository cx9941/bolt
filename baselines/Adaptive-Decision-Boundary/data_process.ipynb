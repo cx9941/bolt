{
 "cells": [
  {
   "cell_type": "code",
   "execution_count": 1,
   "metadata": {},
   "outputs": [],
   "source": [
    "import pandas as pd\n",
    "import os\n",
    "root_dir = '../../data'\n",
    "for dataset_name in ['linkedln', 'banking', 'clinc', 'mcid', 'reuters', 'stackoverflow', 'thucnews', 'snips', 'atis', 'ele', 'news']:\n",
    "# for dataset_name in ['atis']:\n",
    "    for split in ['train', 'eval', 'test']:\n",
    "        df = pd.read_csv(f'{root_dir}/{dataset_name}/origin_data/{split}.tsv', sep='\\t')\n",
    "        if not os.path.exists(f'data/{dataset_name}'):\n",
    "            os.makedirs(f'data/{dataset_name}')\n",
    "        if split == 'eval':\n",
    "            split = 'dev'\n",
    "        df['label'] = df['label'].apply(lambda x: '_'.join(x.split(' ')))\n",
    "        df['text'] = df['text'].apply(lambda x: x.replace('\\n', ''))\n",
    "        df.to_csv(f\"data/{dataset_name}/{split}.tsv\", index=None, sep='\\t')"
   ]
  }
 ],
 "metadata": {
  "kernelspec": {
   "display_name": "acl25",
   "language": "python",
   "name": "python3"
  },
  "language_info": {
   "codemirror_mode": {
    "name": "ipython",
    "version": 3
   },
   "file_extension": ".py",
   "mimetype": "text/x-python",
   "name": "python",
   "nbconvert_exporter": "python",
   "pygments_lexer": "ipython3",
   "version": "3.12.4"
  }
 },
 "nbformat": 4,
 "nbformat_minor": 2
}
